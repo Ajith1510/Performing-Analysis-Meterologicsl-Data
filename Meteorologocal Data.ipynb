{
 "cells": [
  {
   "cell_type": "markdown",
   "metadata": {},
   "source": [
    "## Import Libraries"
   ]
  },
  {
   "cell_type": "code",
   "execution_count": 1,
   "metadata": {},
   "outputs": [],
   "source": [
    "import pandas as pd\n",
    "import matplotlib.pyplot as plt"
   ]
  },
  {
   "cell_type": "markdown",
   "metadata": {},
   "source": [
    "## Load Dataset"
   ]
  },
  {
   "cell_type": "code",
   "execution_count": 3,
   "metadata": {},
   "outputs": [
    {
     "name": "stdout",
     "output_type": "stream",
     "text": [
      "Dataset loaded Successfully\n"
     ]
    }
   ],
   "source": [
    "df=pd.read_csv('D:/Project/weatherhistory.csv')\n",
    "print('Dataset loaded Successfully')"
   ]
  },
  {
   "cell_type": "markdown",
   "metadata": {},
   "source": [
    "## Read Datasets"
   ]
  },
  {
   "cell_type": "code",
   "execution_count": 6,
   "metadata": {},
   "outputs": [
    {
     "data": {
      "text/html": [
       "<div>\n",
       "<style scoped>\n",
       "    .dataframe tbody tr th:only-of-type {\n",
       "        vertical-align: middle;\n",
       "    }\n",
       "\n",
       "    .dataframe tbody tr th {\n",
       "        vertical-align: top;\n",
       "    }\n",
       "\n",
       "    .dataframe thead th {\n",
       "        text-align: right;\n",
       "    }\n",
       "</style>\n",
       "<table border=\"1\" class=\"dataframe\">\n",
       "  <thead>\n",
       "    <tr style=\"text-align: right;\">\n",
       "      <th></th>\n",
       "      <th>Formatted Date</th>\n",
       "      <th>Summary</th>\n",
       "      <th>Precip Type</th>\n",
       "      <th>Temperature (C)</th>\n",
       "      <th>Apparent Temperature (C)</th>\n",
       "      <th>Humidity</th>\n",
       "      <th>Wind Speed (km/h)</th>\n",
       "      <th>Wind Bearing (degrees)</th>\n",
       "      <th>Visibility (km)</th>\n",
       "      <th>Loud Cover</th>\n",
       "      <th>Pressure (millibars)</th>\n",
       "      <th>Daily Summary</th>\n",
       "    </tr>\n",
       "  </thead>\n",
       "  <tbody>\n",
       "    <tr>\n",
       "      <th>0</th>\n",
       "      <td>2006-04-01 00:00:00.000 +0200</td>\n",
       "      <td>Partly Cloudy</td>\n",
       "      <td>rain</td>\n",
       "      <td>9.472222</td>\n",
       "      <td>7.388889</td>\n",
       "      <td>0.89</td>\n",
       "      <td>14.1197</td>\n",
       "      <td>251.0</td>\n",
       "      <td>15.8263</td>\n",
       "      <td>0.0</td>\n",
       "      <td>1015.13</td>\n",
       "      <td>Partly cloudy throughout the day.</td>\n",
       "    </tr>\n",
       "    <tr>\n",
       "      <th>1</th>\n",
       "      <td>2006-04-01 01:00:00.000 +0200</td>\n",
       "      <td>Partly Cloudy</td>\n",
       "      <td>rain</td>\n",
       "      <td>9.355556</td>\n",
       "      <td>7.227778</td>\n",
       "      <td>0.86</td>\n",
       "      <td>14.2646</td>\n",
       "      <td>259.0</td>\n",
       "      <td>15.8263</td>\n",
       "      <td>0.0</td>\n",
       "      <td>1015.63</td>\n",
       "      <td>Partly cloudy throughout the day.</td>\n",
       "    </tr>\n",
       "    <tr>\n",
       "      <th>2</th>\n",
       "      <td>2006-04-01 02:00:00.000 +0200</td>\n",
       "      <td>Mostly Cloudy</td>\n",
       "      <td>rain</td>\n",
       "      <td>9.377778</td>\n",
       "      <td>9.377778</td>\n",
       "      <td>0.89</td>\n",
       "      <td>3.9284</td>\n",
       "      <td>204.0</td>\n",
       "      <td>14.9569</td>\n",
       "      <td>0.0</td>\n",
       "      <td>1015.94</td>\n",
       "      <td>Partly cloudy throughout the day.</td>\n",
       "    </tr>\n",
       "    <tr>\n",
       "      <th>3</th>\n",
       "      <td>2006-04-01 03:00:00.000 +0200</td>\n",
       "      <td>Partly Cloudy</td>\n",
       "      <td>rain</td>\n",
       "      <td>8.288889</td>\n",
       "      <td>5.944444</td>\n",
       "      <td>0.83</td>\n",
       "      <td>14.1036</td>\n",
       "      <td>269.0</td>\n",
       "      <td>15.8263</td>\n",
       "      <td>0.0</td>\n",
       "      <td>1016.41</td>\n",
       "      <td>Partly cloudy throughout the day.</td>\n",
       "    </tr>\n",
       "    <tr>\n",
       "      <th>4</th>\n",
       "      <td>2006-04-01 04:00:00.000 +0200</td>\n",
       "      <td>Mostly Cloudy</td>\n",
       "      <td>rain</td>\n",
       "      <td>8.755556</td>\n",
       "      <td>6.977778</td>\n",
       "      <td>0.83</td>\n",
       "      <td>11.0446</td>\n",
       "      <td>259.0</td>\n",
       "      <td>15.8263</td>\n",
       "      <td>0.0</td>\n",
       "      <td>1016.51</td>\n",
       "      <td>Partly cloudy throughout the day.</td>\n",
       "    </tr>\n",
       "  </tbody>\n",
       "</table>\n",
       "</div>"
      ],
      "text/plain": [
       "                  Formatted Date        Summary Precip Type  Temperature (C)  \\\n",
       "0  2006-04-01 00:00:00.000 +0200  Partly Cloudy        rain         9.472222   \n",
       "1  2006-04-01 01:00:00.000 +0200  Partly Cloudy        rain         9.355556   \n",
       "2  2006-04-01 02:00:00.000 +0200  Mostly Cloudy        rain         9.377778   \n",
       "3  2006-04-01 03:00:00.000 +0200  Partly Cloudy        rain         8.288889   \n",
       "4  2006-04-01 04:00:00.000 +0200  Mostly Cloudy        rain         8.755556   \n",
       "\n",
       "   Apparent Temperature (C)  Humidity  Wind Speed (km/h)  \\\n",
       "0                  7.388889      0.89            14.1197   \n",
       "1                  7.227778      0.86            14.2646   \n",
       "2                  9.377778      0.89             3.9284   \n",
       "3                  5.944444      0.83            14.1036   \n",
       "4                  6.977778      0.83            11.0446   \n",
       "\n",
       "   Wind Bearing (degrees)  Visibility (km)  Loud Cover  Pressure (millibars)  \\\n",
       "0                   251.0          15.8263         0.0               1015.13   \n",
       "1                   259.0          15.8263         0.0               1015.63   \n",
       "2                   204.0          14.9569         0.0               1015.94   \n",
       "3                   269.0          15.8263         0.0               1016.41   \n",
       "4                   259.0          15.8263         0.0               1016.51   \n",
       "\n",
       "                       Daily Summary  \n",
       "0  Partly cloudy throughout the day.  \n",
       "1  Partly cloudy throughout the day.  \n",
       "2  Partly cloudy throughout the day.  \n",
       "3  Partly cloudy throughout the day.  \n",
       "4  Partly cloudy throughout the day.  "
      ]
     },
     "execution_count": 6,
     "metadata": {},
     "output_type": "execute_result"
    }
   ],
   "source": [
    "df.head()"
   ]
  },
  {
   "cell_type": "code",
   "execution_count": 7,
   "metadata": {},
   "outputs": [
    {
     "data": {
      "text/plain": [
       "(96453, 12)"
      ]
     },
     "execution_count": 7,
     "metadata": {},
     "output_type": "execute_result"
    }
   ],
   "source": [
    "df.shape"
   ]
  },
  {
   "cell_type": "code",
   "execution_count": 8,
   "metadata": {},
   "outputs": [
    {
     "data": {
      "text/plain": [
       "Index(['Formatted Date', 'Summary', 'Precip Type', 'Temperature (C)',\n",
       "       'Apparent Temperature (C)', 'Humidity', 'Wind Speed (km/h)',\n",
       "       'Wind Bearing (degrees)', 'Visibility (km)', 'Loud Cover',\n",
       "       'Pressure (millibars)', 'Daily Summary'],\n",
       "      dtype='object')"
      ]
     },
     "execution_count": 8,
     "metadata": {},
     "output_type": "execute_result"
    }
   ],
   "source": [
    "df.columns"
   ]
  },
  {
   "cell_type": "code",
   "execution_count": 10,
   "metadata": {},
   "outputs": [
    {
     "data": {
      "text/html": [
       "<div>\n",
       "<style scoped>\n",
       "    .dataframe tbody tr th:only-of-type {\n",
       "        vertical-align: middle;\n",
       "    }\n",
       "\n",
       "    .dataframe tbody tr th {\n",
       "        vertical-align: top;\n",
       "    }\n",
       "\n",
       "    .dataframe thead th {\n",
       "        text-align: right;\n",
       "    }\n",
       "</style>\n",
       "<table border=\"1\" class=\"dataframe\">\n",
       "  <thead>\n",
       "    <tr style=\"text-align: right;\">\n",
       "      <th></th>\n",
       "      <th>count</th>\n",
       "      <th>mean</th>\n",
       "      <th>std</th>\n",
       "      <th>min</th>\n",
       "      <th>25%</th>\n",
       "      <th>50%</th>\n",
       "      <th>75%</th>\n",
       "      <th>max</th>\n",
       "    </tr>\n",
       "  </thead>\n",
       "  <tbody>\n",
       "    <tr>\n",
       "      <th>Temperature (C)</th>\n",
       "      <td>96453.0</td>\n",
       "      <td>11.932678</td>\n",
       "      <td>9.551546</td>\n",
       "      <td>-21.822222</td>\n",
       "      <td>4.688889</td>\n",
       "      <td>12.0000</td>\n",
       "      <td>18.838889</td>\n",
       "      <td>39.905556</td>\n",
       "    </tr>\n",
       "    <tr>\n",
       "      <th>Apparent Temperature (C)</th>\n",
       "      <td>96453.0</td>\n",
       "      <td>10.855029</td>\n",
       "      <td>10.696847</td>\n",
       "      <td>-27.716667</td>\n",
       "      <td>2.311111</td>\n",
       "      <td>12.0000</td>\n",
       "      <td>18.838889</td>\n",
       "      <td>39.344444</td>\n",
       "    </tr>\n",
       "    <tr>\n",
       "      <th>Humidity</th>\n",
       "      <td>96453.0</td>\n",
       "      <td>0.734899</td>\n",
       "      <td>0.195473</td>\n",
       "      <td>0.000000</td>\n",
       "      <td>0.600000</td>\n",
       "      <td>0.7800</td>\n",
       "      <td>0.890000</td>\n",
       "      <td>1.000000</td>\n",
       "    </tr>\n",
       "    <tr>\n",
       "      <th>Wind Speed (km/h)</th>\n",
       "      <td>96453.0</td>\n",
       "      <td>10.810640</td>\n",
       "      <td>6.913571</td>\n",
       "      <td>0.000000</td>\n",
       "      <td>5.828200</td>\n",
       "      <td>9.9659</td>\n",
       "      <td>14.135800</td>\n",
       "      <td>63.852600</td>\n",
       "    </tr>\n",
       "    <tr>\n",
       "      <th>Wind Bearing (degrees)</th>\n",
       "      <td>96453.0</td>\n",
       "      <td>187.509232</td>\n",
       "      <td>107.383428</td>\n",
       "      <td>0.000000</td>\n",
       "      <td>116.000000</td>\n",
       "      <td>180.0000</td>\n",
       "      <td>290.000000</td>\n",
       "      <td>359.000000</td>\n",
       "    </tr>\n",
       "    <tr>\n",
       "      <th>Visibility (km)</th>\n",
       "      <td>96453.0</td>\n",
       "      <td>10.347325</td>\n",
       "      <td>4.192123</td>\n",
       "      <td>0.000000</td>\n",
       "      <td>8.339800</td>\n",
       "      <td>10.0464</td>\n",
       "      <td>14.812000</td>\n",
       "      <td>16.100000</td>\n",
       "    </tr>\n",
       "    <tr>\n",
       "      <th>Loud Cover</th>\n",
       "      <td>96453.0</td>\n",
       "      <td>0.000000</td>\n",
       "      <td>0.000000</td>\n",
       "      <td>0.000000</td>\n",
       "      <td>0.000000</td>\n",
       "      <td>0.0000</td>\n",
       "      <td>0.000000</td>\n",
       "      <td>0.000000</td>\n",
       "    </tr>\n",
       "    <tr>\n",
       "      <th>Pressure (millibars)</th>\n",
       "      <td>96453.0</td>\n",
       "      <td>1003.235956</td>\n",
       "      <td>116.969906</td>\n",
       "      <td>0.000000</td>\n",
       "      <td>1011.900000</td>\n",
       "      <td>1016.4500</td>\n",
       "      <td>1021.090000</td>\n",
       "      <td>1046.380000</td>\n",
       "    </tr>\n",
       "  </tbody>\n",
       "</table>\n",
       "</div>"
      ],
      "text/plain": [
       "                            count         mean         std        min  \\\n",
       "Temperature (C)           96453.0    11.932678    9.551546 -21.822222   \n",
       "Apparent Temperature (C)  96453.0    10.855029   10.696847 -27.716667   \n",
       "Humidity                  96453.0     0.734899    0.195473   0.000000   \n",
       "Wind Speed (km/h)         96453.0    10.810640    6.913571   0.000000   \n",
       "Wind Bearing (degrees)    96453.0   187.509232  107.383428   0.000000   \n",
       "Visibility (km)           96453.0    10.347325    4.192123   0.000000   \n",
       "Loud Cover                96453.0     0.000000    0.000000   0.000000   \n",
       "Pressure (millibars)      96453.0  1003.235956  116.969906   0.000000   \n",
       "\n",
       "                                  25%        50%          75%          max  \n",
       "Temperature (C)              4.688889    12.0000    18.838889    39.905556  \n",
       "Apparent Temperature (C)     2.311111    12.0000    18.838889    39.344444  \n",
       "Humidity                     0.600000     0.7800     0.890000     1.000000  \n",
       "Wind Speed (km/h)            5.828200     9.9659    14.135800    63.852600  \n",
       "Wind Bearing (degrees)     116.000000   180.0000   290.000000   359.000000  \n",
       "Visibility (km)              8.339800    10.0464    14.812000    16.100000  \n",
       "Loud Cover                   0.000000     0.0000     0.000000     0.000000  \n",
       "Pressure (millibars)      1011.900000  1016.4500  1021.090000  1046.380000  "
      ]
     },
     "execution_count": 10,
     "metadata": {},
     "output_type": "execute_result"
    }
   ],
   "source": [
    "df.describe().T"
   ]
  },
  {
   "cell_type": "code",
   "execution_count": 11,
   "metadata": {},
   "outputs": [
    {
     "name": "stdout",
     "output_type": "stream",
     "text": [
      "<class 'pandas.core.frame.DataFrame'>\n",
      "RangeIndex: 96453 entries, 0 to 96452\n",
      "Data columns (total 12 columns):\n",
      "Formatted Date              96453 non-null object\n",
      "Summary                     96453 non-null object\n",
      "Precip Type                 95936 non-null object\n",
      "Temperature (C)             96453 non-null float64\n",
      "Apparent Temperature (C)    96453 non-null float64\n",
      "Humidity                    96453 non-null float64\n",
      "Wind Speed (km/h)           96453 non-null float64\n",
      "Wind Bearing (degrees)      96453 non-null float64\n",
      "Visibility (km)             96453 non-null float64\n",
      "Loud Cover                  96453 non-null float64\n",
      "Pressure (millibars)        96453 non-null float64\n",
      "Daily Summary               96453 non-null object\n",
      "dtypes: float64(8), object(4)\n",
      "memory usage: 8.8+ MB\n"
     ]
    }
   ],
   "source": [
    "df.info()"
   ]
  },
  {
   "cell_type": "code",
   "execution_count": 12,
   "metadata": {},
   "outputs": [
    {
     "data": {
      "text/plain": [
       "Formatted Date                0\n",
       "Summary                       0\n",
       "Precip Type                 517\n",
       "Temperature (C)               0\n",
       "Apparent Temperature (C)      0\n",
       "Humidity                      0\n",
       "Wind Speed (km/h)             0\n",
       "Wind Bearing (degrees)        0\n",
       "Visibility (km)               0\n",
       "Loud Cover                    0\n",
       "Pressure (millibars)          0\n",
       "Daily Summary                 0\n",
       "dtype: int64"
      ]
     },
     "execution_count": 12,
     "metadata": {},
     "output_type": "execute_result"
    }
   ],
   "source": [
    "df.isnull().sum()"
   ]
  },
  {
   "cell_type": "code",
   "execution_count": 13,
   "metadata": {},
   "outputs": [
    {
     "data": {
      "text/html": [
       "<div>\n",
       "<style scoped>\n",
       "    .dataframe tbody tr th:only-of-type {\n",
       "        vertical-align: middle;\n",
       "    }\n",
       "\n",
       "    .dataframe tbody tr th {\n",
       "        vertical-align: top;\n",
       "    }\n",
       "\n",
       "    .dataframe thead th {\n",
       "        text-align: right;\n",
       "    }\n",
       "</style>\n",
       "<table border=\"1\" class=\"dataframe\">\n",
       "  <thead>\n",
       "    <tr style=\"text-align: right;\">\n",
       "      <th></th>\n",
       "      <th>Formatted Date</th>\n",
       "      <th>Apparent Temperature (C)</th>\n",
       "      <th>Humidity</th>\n",
       "      <th>Loud Cover</th>\n",
       "    </tr>\n",
       "  </thead>\n",
       "  <tbody>\n",
       "    <tr>\n",
       "      <th>0</th>\n",
       "      <td>2006-04-01 00:00:00.000 +0200</td>\n",
       "      <td>7.388889</td>\n",
       "      <td>0.89</td>\n",
       "      <td>0.0</td>\n",
       "    </tr>\n",
       "    <tr>\n",
       "      <th>1</th>\n",
       "      <td>2006-04-01 01:00:00.000 +0200</td>\n",
       "      <td>7.227778</td>\n",
       "      <td>0.86</td>\n",
       "      <td>0.0</td>\n",
       "    </tr>\n",
       "    <tr>\n",
       "      <th>2</th>\n",
       "      <td>2006-04-01 02:00:00.000 +0200</td>\n",
       "      <td>9.377778</td>\n",
       "      <td>0.89</td>\n",
       "      <td>0.0</td>\n",
       "    </tr>\n",
       "    <tr>\n",
       "      <th>3</th>\n",
       "      <td>2006-04-01 03:00:00.000 +0200</td>\n",
       "      <td>5.944444</td>\n",
       "      <td>0.83</td>\n",
       "      <td>0.0</td>\n",
       "    </tr>\n",
       "    <tr>\n",
       "      <th>4</th>\n",
       "      <td>2006-04-01 04:00:00.000 +0200</td>\n",
       "      <td>6.977778</td>\n",
       "      <td>0.83</td>\n",
       "      <td>0.0</td>\n",
       "    </tr>\n",
       "  </tbody>\n",
       "</table>\n",
       "</div>"
      ],
      "text/plain": [
       "                  Formatted Date  Apparent Temperature (C)  Humidity  \\\n",
       "0  2006-04-01 00:00:00.000 +0200                  7.388889      0.89   \n",
       "1  2006-04-01 01:00:00.000 +0200                  7.227778      0.86   \n",
       "2  2006-04-01 02:00:00.000 +0200                  9.377778      0.89   \n",
       "3  2006-04-01 03:00:00.000 +0200                  5.944444      0.83   \n",
       "4  2006-04-01 04:00:00.000 +0200                  6.977778      0.83   \n",
       "\n",
       "   Loud Cover  \n",
       "0         0.0  \n",
       "1         0.0  \n",
       "2         0.0  \n",
       "3         0.0  \n",
       "4         0.0  "
      ]
     },
     "execution_count": 13,
     "metadata": {},
     "output_type": "execute_result"
    }
   ],
   "source": [
    "df = df.drop(['Daily Summary','Wind Bearing (degrees)','Summary','Precip Type','Temperature (C)',\n",
    "              'Wind Speed (km/h)','Visibility (km)','Pressure (millibars)'], axis = 1)\n",
    "df.head()"
   ]
  },
  {
   "cell_type": "code",
   "execution_count": 15,
   "metadata": {},
   "outputs": [
    {
     "data": {
      "text/plain": [
       "(96453, 4)"
      ]
     },
     "execution_count": 15,
     "metadata": {},
     "output_type": "execute_result"
    }
   ],
   "source": [
    "df.shape"
   ]
  },
  {
   "cell_type": "code",
   "execution_count": 16,
   "metadata": {},
   "outputs": [],
   "source": [
    "#to_datetime\n",
    "df['Formatted Date'] = pd.to_datetime(df['Formatted Date'],utc=True)"
   ]
  },
  {
   "cell_type": "code",
   "execution_count": 17,
   "metadata": {},
   "outputs": [],
   "source": [
    "#set index\n",
    "df = df.set_index('Formatted Date')"
   ]
  },
  {
   "cell_type": "code",
   "execution_count": 18,
   "metadata": {},
   "outputs": [
    {
     "data": {
      "text/html": [
       "<div>\n",
       "<style scoped>\n",
       "    .dataframe tbody tr th:only-of-type {\n",
       "        vertical-align: middle;\n",
       "    }\n",
       "\n",
       "    .dataframe tbody tr th {\n",
       "        vertical-align: top;\n",
       "    }\n",
       "\n",
       "    .dataframe thead th {\n",
       "        text-align: right;\n",
       "    }\n",
       "</style>\n",
       "<table border=\"1\" class=\"dataframe\">\n",
       "  <thead>\n",
       "    <tr style=\"text-align: right;\">\n",
       "      <th></th>\n",
       "      <th>Apparent Temperature (C)</th>\n",
       "      <th>Humidity</th>\n",
       "    </tr>\n",
       "    <tr>\n",
       "      <th>Formatted Date</th>\n",
       "      <th></th>\n",
       "      <th></th>\n",
       "    </tr>\n",
       "  </thead>\n",
       "  <tbody>\n",
       "    <tr>\n",
       "      <th>2005-12-01 00:00:00+00:00</th>\n",
       "      <td>-4.050000</td>\n",
       "      <td>0.890000</td>\n",
       "    </tr>\n",
       "    <tr>\n",
       "      <th>2006-01-01 00:00:00+00:00</th>\n",
       "      <td>-4.173708</td>\n",
       "      <td>0.834610</td>\n",
       "    </tr>\n",
       "    <tr>\n",
       "      <th>2006-02-01 00:00:00+00:00</th>\n",
       "      <td>-2.990716</td>\n",
       "      <td>0.843467</td>\n",
       "    </tr>\n",
       "    <tr>\n",
       "      <th>2006-03-01 00:00:00+00:00</th>\n",
       "      <td>1.969780</td>\n",
       "      <td>0.778737</td>\n",
       "    </tr>\n",
       "    <tr>\n",
       "      <th>2006-04-01 00:00:00+00:00</th>\n",
       "      <td>12.098827</td>\n",
       "      <td>0.728625</td>\n",
       "    </tr>\n",
       "    <tr>\n",
       "      <th>2006-05-01 00:00:00+00:00</th>\n",
       "      <td>15.539479</td>\n",
       "      <td>0.721801</td>\n",
       "    </tr>\n",
       "    <tr>\n",
       "      <th>2006-06-01 00:00:00+00:00</th>\n",
       "      <td>19.535965</td>\n",
       "      <td>0.747125</td>\n",
       "    </tr>\n",
       "    <tr>\n",
       "      <th>2006-07-01 00:00:00+00:00</th>\n",
       "      <td>23.595348</td>\n",
       "      <td>0.656304</td>\n",
       "    </tr>\n",
       "    <tr>\n",
       "      <th>2006-08-01 00:00:00+00:00</th>\n",
       "      <td>19.528241</td>\n",
       "      <td>0.760753</td>\n",
       "    </tr>\n",
       "    <tr>\n",
       "      <th>2006-09-01 00:00:00+00:00</th>\n",
       "      <td>18.155571</td>\n",
       "      <td>0.689444</td>\n",
       "    </tr>\n",
       "    <tr>\n",
       "      <th>2006-10-01 00:00:00+00:00</th>\n",
       "      <td>12.398678</td>\n",
       "      <td>0.733642</td>\n",
       "    </tr>\n",
       "    <tr>\n",
       "      <th>2006-11-01 00:00:00+00:00</th>\n",
       "      <td>5.328310</td>\n",
       "      <td>0.812722</td>\n",
       "    </tr>\n",
       "    <tr>\n",
       "      <th>2006-12-01 00:00:00+00:00</th>\n",
       "      <td>0.107310</td>\n",
       "      <td>0.905376</td>\n",
       "    </tr>\n",
       "    <tr>\n",
       "      <th>2007-01-01 00:00:00+00:00</th>\n",
       "      <td>2.387015</td>\n",
       "      <td>0.813495</td>\n",
       "    </tr>\n",
       "    <tr>\n",
       "      <th>2007-02-01 00:00:00+00:00</th>\n",
       "      <td>2.639848</td>\n",
       "      <td>0.815015</td>\n",
       "    </tr>\n",
       "    <tr>\n",
       "      <th>2007-03-01 00:00:00+00:00</th>\n",
       "      <td>7.174619</td>\n",
       "      <td>0.713884</td>\n",
       "    </tr>\n",
       "    <tr>\n",
       "      <th>2007-04-01 00:00:00+00:00</th>\n",
       "      <td>11.894421</td>\n",
       "      <td>0.536361</td>\n",
       "    </tr>\n",
       "    <tr>\n",
       "      <th>2007-05-01 00:00:00+00:00</th>\n",
       "      <td>17.453136</td>\n",
       "      <td>0.653253</td>\n",
       "    </tr>\n",
       "    <tr>\n",
       "      <th>2007-06-01 00:00:00+00:00</th>\n",
       "      <td>21.883102</td>\n",
       "      <td>0.616486</td>\n",
       "    </tr>\n",
       "    <tr>\n",
       "      <th>2007-07-01 00:00:00+00:00</th>\n",
       "      <td>23.348081</td>\n",
       "      <td>0.491250</td>\n",
       "    </tr>\n",
       "    <tr>\n",
       "      <th>2007-08-01 00:00:00+00:00</th>\n",
       "      <td>23.079689</td>\n",
       "      <td>0.562876</td>\n",
       "    </tr>\n",
       "    <tr>\n",
       "      <th>2007-09-01 00:00:00+00:00</th>\n",
       "      <td>14.328457</td>\n",
       "      <td>0.682708</td>\n",
       "    </tr>\n",
       "    <tr>\n",
       "      <th>2007-10-01 00:00:00+00:00</th>\n",
       "      <td>9.662612</td>\n",
       "      <td>0.740954</td>\n",
       "    </tr>\n",
       "    <tr>\n",
       "      <th>2007-11-01 00:00:00+00:00</th>\n",
       "      <td>1.218225</td>\n",
       "      <td>0.801444</td>\n",
       "    </tr>\n",
       "    <tr>\n",
       "      <th>2007-12-01 00:00:00+00:00</th>\n",
       "      <td>-2.964897</td>\n",
       "      <td>0.856250</td>\n",
       "    </tr>\n",
       "    <tr>\n",
       "      <th>2008-01-01 00:00:00+00:00</th>\n",
       "      <td>-2.069907</td>\n",
       "      <td>0.819476</td>\n",
       "    </tr>\n",
       "    <tr>\n",
       "      <th>2008-02-01 00:00:00+00:00</th>\n",
       "      <td>1.915597</td>\n",
       "      <td>0.682615</td>\n",
       "    </tr>\n",
       "    <tr>\n",
       "      <th>2008-03-01 00:00:00+00:00</th>\n",
       "      <td>5.004353</td>\n",
       "      <td>0.668468</td>\n",
       "    </tr>\n",
       "    <tr>\n",
       "      <th>2008-04-01 00:00:00+00:00</th>\n",
       "      <td>11.183688</td>\n",
       "      <td>0.693194</td>\n",
       "    </tr>\n",
       "    <tr>\n",
       "      <th>2008-05-01 00:00:00+00:00</th>\n",
       "      <td>17.113583</td>\n",
       "      <td>0.663132</td>\n",
       "    </tr>\n",
       "    <tr>\n",
       "      <th>...</th>\n",
       "      <td>...</td>\n",
       "      <td>...</td>\n",
       "    </tr>\n",
       "    <tr>\n",
       "      <th>2014-07-01 00:00:00+00:00</th>\n",
       "      <td>21.911598</td>\n",
       "      <td>0.699393</td>\n",
       "    </tr>\n",
       "    <tr>\n",
       "      <th>2014-08-01 00:00:00+00:00</th>\n",
       "      <td>20.781870</td>\n",
       "      <td>0.707809</td>\n",
       "    </tr>\n",
       "    <tr>\n",
       "      <th>2014-09-01 00:00:00+00:00</th>\n",
       "      <td>17.258387</td>\n",
       "      <td>0.785944</td>\n",
       "    </tr>\n",
       "    <tr>\n",
       "      <th>2014-10-01 00:00:00+00:00</th>\n",
       "      <td>12.381803</td>\n",
       "      <td>0.826116</td>\n",
       "    </tr>\n",
       "    <tr>\n",
       "      <th>2014-11-01 00:00:00+00:00</th>\n",
       "      <td>6.639097</td>\n",
       "      <td>0.839736</td>\n",
       "    </tr>\n",
       "    <tr>\n",
       "      <th>2014-12-01 00:00:00+00:00</th>\n",
       "      <td>0.556586</td>\n",
       "      <td>0.835927</td>\n",
       "    </tr>\n",
       "    <tr>\n",
       "      <th>2015-01-01 00:00:00+00:00</th>\n",
       "      <td>-0.770124</td>\n",
       "      <td>0.831519</td>\n",
       "    </tr>\n",
       "    <tr>\n",
       "      <th>2015-02-01 00:00:00+00:00</th>\n",
       "      <td>0.017006</td>\n",
       "      <td>0.803452</td>\n",
       "    </tr>\n",
       "    <tr>\n",
       "      <th>2015-03-01 00:00:00+00:00</th>\n",
       "      <td>5.441592</td>\n",
       "      <td>0.669476</td>\n",
       "    </tr>\n",
       "    <tr>\n",
       "      <th>2015-04-01 00:00:00+00:00</th>\n",
       "      <td>10.632801</td>\n",
       "      <td>0.547764</td>\n",
       "    </tr>\n",
       "    <tr>\n",
       "      <th>2015-05-01 00:00:00+00:00</th>\n",
       "      <td>17.067660</td>\n",
       "      <td>0.702742</td>\n",
       "    </tr>\n",
       "    <tr>\n",
       "      <th>2015-06-01 00:00:00+00:00</th>\n",
       "      <td>20.511782</td>\n",
       "      <td>0.655208</td>\n",
       "    </tr>\n",
       "    <tr>\n",
       "      <th>2015-07-01 00:00:00+00:00</th>\n",
       "      <td>23.803487</td>\n",
       "      <td>0.622984</td>\n",
       "    </tr>\n",
       "    <tr>\n",
       "      <th>2015-08-01 00:00:00+00:00</th>\n",
       "      <td>23.745766</td>\n",
       "      <td>0.659825</td>\n",
       "    </tr>\n",
       "    <tr>\n",
       "      <th>2015-09-01 00:00:00+00:00</th>\n",
       "      <td>18.308472</td>\n",
       "      <td>0.712889</td>\n",
       "    </tr>\n",
       "    <tr>\n",
       "      <th>2015-10-01 00:00:00+00:00</th>\n",
       "      <td>10.170408</td>\n",
       "      <td>0.840524</td>\n",
       "    </tr>\n",
       "    <tr>\n",
       "      <th>2015-11-01 00:00:00+00:00</th>\n",
       "      <td>5.553040</td>\n",
       "      <td>0.817014</td>\n",
       "    </tr>\n",
       "    <tr>\n",
       "      <th>2015-12-01 00:00:00+00:00</th>\n",
       "      <td>0.828644</td>\n",
       "      <td>0.925390</td>\n",
       "    </tr>\n",
       "    <tr>\n",
       "      <th>2016-01-01 00:00:00+00:00</th>\n",
       "      <td>-3.014576</td>\n",
       "      <td>0.866156</td>\n",
       "    </tr>\n",
       "    <tr>\n",
       "      <th>2016-02-01 00:00:00+00:00</th>\n",
       "      <td>4.150782</td>\n",
       "      <td>0.836853</td>\n",
       "    </tr>\n",
       "    <tr>\n",
       "      <th>2016-03-01 00:00:00+00:00</th>\n",
       "      <td>5.901404</td>\n",
       "      <td>0.764677</td>\n",
       "    </tr>\n",
       "    <tr>\n",
       "      <th>2016-04-01 00:00:00+00:00</th>\n",
       "      <td>12.731427</td>\n",
       "      <td>0.659972</td>\n",
       "    </tr>\n",
       "    <tr>\n",
       "      <th>2016-05-01 00:00:00+00:00</th>\n",
       "      <td>16.199216</td>\n",
       "      <td>0.702164</td>\n",
       "    </tr>\n",
       "    <tr>\n",
       "      <th>2016-06-01 00:00:00+00:00</th>\n",
       "      <td>21.463387</td>\n",
       "      <td>0.733458</td>\n",
       "    </tr>\n",
       "    <tr>\n",
       "      <th>2016-07-01 00:00:00+00:00</th>\n",
       "      <td>22.840226</td>\n",
       "      <td>0.669328</td>\n",
       "    </tr>\n",
       "    <tr>\n",
       "      <th>2016-08-01 00:00:00+00:00</th>\n",
       "      <td>21.383094</td>\n",
       "      <td>0.674046</td>\n",
       "    </tr>\n",
       "    <tr>\n",
       "      <th>2016-09-01 00:00:00+00:00</th>\n",
       "      <td>18.355833</td>\n",
       "      <td>0.688833</td>\n",
       "    </tr>\n",
       "    <tr>\n",
       "      <th>2016-10-01 00:00:00+00:00</th>\n",
       "      <td>8.923947</td>\n",
       "      <td>0.799906</td>\n",
       "    </tr>\n",
       "    <tr>\n",
       "      <th>2016-11-01 00:00:00+00:00</th>\n",
       "      <td>3.048627</td>\n",
       "      <td>0.848472</td>\n",
       "    </tr>\n",
       "    <tr>\n",
       "      <th>2016-12-01 00:00:00+00:00</th>\n",
       "      <td>-2.017272</td>\n",
       "      <td>0.887981</td>\n",
       "    </tr>\n",
       "  </tbody>\n",
       "</table>\n",
       "<p>133 rows × 2 columns</p>\n",
       "</div>"
      ],
      "text/plain": [
       "                           Apparent Temperature (C)  Humidity\n",
       "Formatted Date                                               \n",
       "2005-12-01 00:00:00+00:00                 -4.050000  0.890000\n",
       "2006-01-01 00:00:00+00:00                 -4.173708  0.834610\n",
       "2006-02-01 00:00:00+00:00                 -2.990716  0.843467\n",
       "2006-03-01 00:00:00+00:00                  1.969780  0.778737\n",
       "2006-04-01 00:00:00+00:00                 12.098827  0.728625\n",
       "2006-05-01 00:00:00+00:00                 15.539479  0.721801\n",
       "2006-06-01 00:00:00+00:00                 19.535965  0.747125\n",
       "2006-07-01 00:00:00+00:00                 23.595348  0.656304\n",
       "2006-08-01 00:00:00+00:00                 19.528241  0.760753\n",
       "2006-09-01 00:00:00+00:00                 18.155571  0.689444\n",
       "2006-10-01 00:00:00+00:00                 12.398678  0.733642\n",
       "2006-11-01 00:00:00+00:00                  5.328310  0.812722\n",
       "2006-12-01 00:00:00+00:00                  0.107310  0.905376\n",
       "2007-01-01 00:00:00+00:00                  2.387015  0.813495\n",
       "2007-02-01 00:00:00+00:00                  2.639848  0.815015\n",
       "2007-03-01 00:00:00+00:00                  7.174619  0.713884\n",
       "2007-04-01 00:00:00+00:00                 11.894421  0.536361\n",
       "2007-05-01 00:00:00+00:00                 17.453136  0.653253\n",
       "2007-06-01 00:00:00+00:00                 21.883102  0.616486\n",
       "2007-07-01 00:00:00+00:00                 23.348081  0.491250\n",
       "2007-08-01 00:00:00+00:00                 23.079689  0.562876\n",
       "2007-09-01 00:00:00+00:00                 14.328457  0.682708\n",
       "2007-10-01 00:00:00+00:00                  9.662612  0.740954\n",
       "2007-11-01 00:00:00+00:00                  1.218225  0.801444\n",
       "2007-12-01 00:00:00+00:00                 -2.964897  0.856250\n",
       "2008-01-01 00:00:00+00:00                 -2.069907  0.819476\n",
       "2008-02-01 00:00:00+00:00                  1.915597  0.682615\n",
       "2008-03-01 00:00:00+00:00                  5.004353  0.668468\n",
       "2008-04-01 00:00:00+00:00                 11.183688  0.693194\n",
       "2008-05-01 00:00:00+00:00                 17.113583  0.663132\n",
       "...                                             ...       ...\n",
       "2014-07-01 00:00:00+00:00                 21.911598  0.699393\n",
       "2014-08-01 00:00:00+00:00                 20.781870  0.707809\n",
       "2014-09-01 00:00:00+00:00                 17.258387  0.785944\n",
       "2014-10-01 00:00:00+00:00                 12.381803  0.826116\n",
       "2014-11-01 00:00:00+00:00                  6.639097  0.839736\n",
       "2014-12-01 00:00:00+00:00                  0.556586  0.835927\n",
       "2015-01-01 00:00:00+00:00                 -0.770124  0.831519\n",
       "2015-02-01 00:00:00+00:00                  0.017006  0.803452\n",
       "2015-03-01 00:00:00+00:00                  5.441592  0.669476\n",
       "2015-04-01 00:00:00+00:00                 10.632801  0.547764\n",
       "2015-05-01 00:00:00+00:00                 17.067660  0.702742\n",
       "2015-06-01 00:00:00+00:00                 20.511782  0.655208\n",
       "2015-07-01 00:00:00+00:00                 23.803487  0.622984\n",
       "2015-08-01 00:00:00+00:00                 23.745766  0.659825\n",
       "2015-09-01 00:00:00+00:00                 18.308472  0.712889\n",
       "2015-10-01 00:00:00+00:00                 10.170408  0.840524\n",
       "2015-11-01 00:00:00+00:00                  5.553040  0.817014\n",
       "2015-12-01 00:00:00+00:00                  0.828644  0.925390\n",
       "2016-01-01 00:00:00+00:00                 -3.014576  0.866156\n",
       "2016-02-01 00:00:00+00:00                  4.150782  0.836853\n",
       "2016-03-01 00:00:00+00:00                  5.901404  0.764677\n",
       "2016-04-01 00:00:00+00:00                 12.731427  0.659972\n",
       "2016-05-01 00:00:00+00:00                 16.199216  0.702164\n",
       "2016-06-01 00:00:00+00:00                 21.463387  0.733458\n",
       "2016-07-01 00:00:00+00:00                 22.840226  0.669328\n",
       "2016-08-01 00:00:00+00:00                 21.383094  0.674046\n",
       "2016-09-01 00:00:00+00:00                 18.355833  0.688833\n",
       "2016-10-01 00:00:00+00:00                  8.923947  0.799906\n",
       "2016-11-01 00:00:00+00:00                  3.048627  0.848472\n",
       "2016-12-01 00:00:00+00:00                 -2.017272  0.887981\n",
       "\n",
       "[133 rows x 2 columns]"
      ]
     },
     "execution_count": 18,
     "metadata": {},
     "output_type": "execute_result"
    }
   ],
   "source": [
    "data = df[['Apparent Temperature (C)','Humidity']].resample('MS').mean()\n",
    "data"
   ]
  },
  {
   "cell_type": "markdown",
   "metadata": {},
   "source": [
    "## January"
   ]
  },
  {
   "cell_type": "code",
   "execution_count": 19,
   "metadata": {},
   "outputs": [
    {
     "data": {
      "text/plain": [
       "Text(0.5,1,'January')"
      ]
     },
     "execution_count": 19,
     "metadata": {},
     "output_type": "execute_result"
    },
    {
     "data": {
      "image/png": "[encoded data removed]",
      "text/plain": [
       "<Figure size 432x288 with 1 Axes>"
      ]
     },
     "metadata": {},
     "output_type": "display_data"
    }
   ],
   "source": [
    "Jan = data[data.index.month==1]\n",
    "Jan.plot(marker='o')\n",
    "plt.title('January',color='green')"
   ]
  },
  {
   "cell_type": "markdown",
   "metadata": {},
   "source": [
    "## Feburary"
   ]
  },
  {
   "cell_type": "code",
   "execution_count": 20,
   "metadata": {},
   "outputs": [
    {
     "data": {
      "text/plain": [
       "Text(0.5,1,'February')"
      ]
     },
     "execution_count": 20,
     "metadata": {},
     "output_type": "execute_result"
    },
    {
     "data": {
      "image/png": "[encoded data removed]",
      "text/plain": [
       "<Figure size 432x288 with 1 Axes>"
      ]
     },
     "metadata": {},
     "output_type": "display_data"
    }
   ],
   "source": [
    "feb = data[data.index.month==2]\n",
    "feb.plot(marker='o')\n",
    "plt.title('February',color='green')"
   ]
  },
  {
   "cell_type": "markdown",
   "metadata": {},
   "source": [
    "## March"
   ]
  },
  {
   "cell_type": "code",
   "execution_count": 22,
   "metadata": {},
   "outputs": [
    {
     "data": {
      "text/plain": [
       "Text(0.5,1,'March')"
      ]
     },
     "execution_count": 22,
     "metadata": {},
     "output_type": "execute_result"
    },
    {
     "data": {
      "image/png": "[encoded data removed]",
      "text/plain": [
       "<Figure size 432x288 with 1 Axes>"
      ]
     },
     "metadata": {},
     "output_type": "display_data"
    }
   ],
   "source": [
    "mar = data[data.index.month==3]\n",
    "mar.plot(marker='o')\n",
    "plt.title('March',color='green')"
   ]
  },
  {
   "cell_type": "markdown",
   "metadata": {},
   "source": [
    "## April"
   ]
  },
  {
   "cell_type": "code",
   "execution_count": 23,
   "metadata": {},
   "outputs": [
    {
     "data": {
      "text/plain": [
       "Text(0.5,1,'April')"
      ]
     },
     "execution_count": 23,
     "metadata": {},
     "output_type": "execute_result"
    },
    {
     "data": {
      "image/png": "[encoded data removed]",
      "text/plain": [
       "<Figure size 432x288 with 1 Axes>"
      ]
     },
     "metadata": {},
     "output_type": "display_data"
    }
   ],
   "source": [
    "Apr = data[data.index.month==4]\n",
    "Apr.plot(marker='o')\n",
    "plt.title('April',color='green')"
   ]
  },
  {
   "cell_type": "markdown",
   "metadata": {},
   "source": [
    "## May"
   ]
  },
  {
   "cell_type": "code",
   "execution_count": 24,
   "metadata": {},
   "outputs": [
    {
     "data": {
      "text/plain": [
       "Text(0.5,1,'May')"
      ]
     },
     "execution_count": 24,
     "metadata": {},
     "output_type": "execute_result"
    },
    {
     "data": {
      "image/png": "[encoded data removed]",
      "text/plain": [
       "<Figure size 432x288 with 1 Axes>"
      ]
     },
     "metadata": {},
     "output_type": "display_data"
    }
   ],
   "source": [
    "May = data[data.index.month==5]\n",
    "May.plot(marker='o')\n",
    "plt.title('May',color='green')"
   ]
  },
  {
   "cell_type": "markdown",
   "metadata": {},
   "source": [
    "## June"
   ]
  },
  {
   "cell_type": "code",
   "execution_count": 25,
   "metadata": {},
   "outputs": [
    {
     "data": {
      "text/plain": [
       "Text(0.5,1,'June')"
      ]
     },
     "execution_count": 25,
     "metadata": {},
     "output_type": "execute_result"
    },
    {
     "data": {
      "image/png": "[encoded data removed]",
      "text/plain": [
       "<Figure size 432x288 with 1 Axes>"
      ]
     },
     "metadata": {},
     "output_type": "display_data"
    }
   ],
   "source": [
    "June = data[data.index.month==6]\n",
    "June.plot(marker='o')\n",
    "plt.title('June',color='green')"
   ]
  },
  {
   "cell_type": "markdown",
   "metadata": {},
   "source": [
    "## July"
   ]
  },
  {
   "cell_type": "code",
   "execution_count": 26,
   "metadata": {},
   "outputs": [
    {
     "data": {
      "text/plain": [
       "Text(0.5,1,'July')"
      ]
     },
     "execution_count": 26,
     "metadata": {},
     "output_type": "execute_result"
    },
    {
     "data": {
      "image/png": "[encoded data removed]",
      "text/plain": [
       "<Figure size 432x288 with 1 Axes>"
      ]
     },
     "metadata": {},
     "output_type": "display_data"
    }
   ],
   "source": [
    "July = data[data.index.month==7]\n",
    "July.plot(marker='o')\n",
    "plt.title('July',color='green')"
   ]
  },
  {
   "cell_type": "markdown",
   "metadata": {},
   "source": [
    "## August"
   ]
  },
  {
   "cell_type": "code",
   "execution_count": 27,
   "metadata": {},
   "outputs": [
    {
     "data": {
      "text/plain": [
       "Text(0.5,1,'August')"
      ]
     },
     "execution_count": 27,
     "metadata": {},
     "output_type": "execute_result"
    },
    {
     "data": {
      "image/png": "[encoded data removed]",
      "text/plain": [
       "<Figure size 432x288 with 1 Axes>"
      ]
     },
     "metadata": {},
     "output_type": "display_data"
    }
   ],
   "source": [
    "Aug = data[data.index.month==8]\n",
    "Aug.plot(marker='o')\n",
    "plt.title('August',color='green')"
   ]
  },
  {
   "cell_type": "markdown",
   "metadata": {},
   "source": [
    "## September"
   ]
  },
  {
   "cell_type": "code",
   "execution_count": 28,
   "metadata": {},
   "outputs": [
    {
     "data": {
      "text/plain": [
       "Text(0.5,1,'September')"
      ]
     },
     "execution_count": 28,
     "metadata": {},
     "output_type": "execute_result"
    },
    {
     "data": {
      "image/png": "[encoded data removed]",
      "text/plain": [
       "<Figure size 432x288 with 1 Axes>"
      ]
     },
     "metadata": {},
     "output_type": "display_data"
    }
   ],
   "source": [
    "Sep = data[data.index.month==9]\n",
    "Sep.plot(marker='o')\n",
    "plt.title('September',color='green')"
   ]
  },
  {
   "cell_type": "markdown",
   "metadata": {},
   "source": [
    "## October"
   ]
  },
  {
   "cell_type": "code",
   "execution_count": 29,
   "metadata": {},
   "outputs": [
    {
     "data": {
      "text/plain": [
       "Text(0.5,1,'October')"
      ]
     },
     "execution_count": 29,
     "metadata": {},
     "output_type": "execute_result"
    },
    {
     "data": {
      "image/png": "[encoded data removed]",
      "text/plain": [
       "<Figure size 432x288 with 1 Axes>"
      ]
     },
     "metadata": {},
     "output_type": "display_data"
    }
   ],
   "source": [
    "Oct = data[data.index.month==10]\n",
    "Oct.plot(marker='o')\n",
    "plt.title('October',color='green')"
   ]
  },
  {
   "cell_type": "markdown",
   "metadata": {},
   "source": [
    "## November"
   ]
  },
  {
   "cell_type": "code",
   "execution_count": 30,
   "metadata": {},
   "outputs": [
    {
     "data": {
      "text/plain": [
       "Text(0.5,1,'November')"
      ]
     },
     "execution_count": 30,
     "metadata": {},
     "output_type": "execute_result"
    },
    {
     "data": {
      "image/png": "[encoded data removed]",
      "text/plain": [
       "<Figure size 432x288 with 1 Axes>"
      ]
     },
     "metadata": {},
     "output_type": "display_data"
    }
   ],
   "source": [
    "Nov = data[data.index.month==11]\n",
    "Nov.plot(marker='o')\n",
    "plt.title('November',color='green')"
   ]
  },
  {
   "cell_type": "markdown",
   "metadata": {},
   "source": [
    "## December"
   ]
  },
  {
   "cell_type": "code",
   "execution_count": 31,
   "metadata": {},
   "outputs": [
    {
     "data": {
      "text/plain": [
       "Text(0.5,1,'December')"
      ]
     },
     "execution_count": 31,
     "metadata": {},
     "output_type": "execute_result"
    },
    {
     "data": {
      "image/png": "[encoded data removed]",
      "text/plain": [
       "<Figure size 432x288 with 1 Axes>"
      ]
     },
     "metadata": {},
     "output_type": "display_data"
    }
   ],
   "source": [
    "Dec = data[data.index.month==12]\n",
    "Dec.plot(marker='o')\n",
    "plt.title('December',color='green')"
   ]
  },
  {
   "cell_type": "code",
   "execution_count": null,
   "metadata": {},
   "outputs": [],
   "source": []
  }
 ],
 "metadata": {
  "kernelspec": {
   "display_name": "Python 3",
   "language": "python",
   "name": "python3"
  },
  "language_info": {
   "codemirror_mode": {
    "name": "ipython",
    "version": 3
   },
   "file_extension": ".py",
   "mimetype": "text/x-python",
   "name": "python",
   "nbconvert_exporter": "python",
   "pygments_lexer": "ipython3",
   "version": "3.6.5"
  }
 },
 "nbformat": 4,
 "nbformat_minor": 2
}
